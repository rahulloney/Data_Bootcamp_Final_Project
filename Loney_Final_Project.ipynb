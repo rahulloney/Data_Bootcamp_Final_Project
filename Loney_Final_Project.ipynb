{
 "cells": [
  {
   "cell_type": "markdown",
   "metadata": {},
   "source": [
    "## Lending Club Peer-to-Peer Loans"
   ]
  },
  {
   "cell_type": "markdown",
   "metadata": {},
   "source": [
    "<img src= \"Lc.png\" width=\"600\" />"
   ]
  },
  {
   "cell_type": "markdown",
   "metadata": {},
   "source": [
    "<img src= \"p2ploans.png\" width=\"600\" />"
   ]
  },
  {
   "cell_type": "markdown",
   "metadata": {},
   "source": [
    "#### Author: Rahul Loney\n",
    "#### Email: rl2838@nyu.edu\n",
    "\n",
    "## Data Report and Relevant packages"
   ]
  },
  {
   "cell_type": "markdown",
   "metadata": {},
   "source": [
    "Alternative Lending has majorly disrupted the Banking sector. People are swaying away from\n",
    "traditional banking institutions and going to Peer-to-Peer lending companies that offer an easier,\n",
    "less beaureacratic approach to acquiring loans.\n",
    "\n",
    "\n",
    "\n",
    "Lending Club is the biggest P2P lending company with a market share of approximately 45%. The\n",
    "aim of this project is to dig deeper into the default rates associated with Lending Club to gain a\n",
    "better insight into what makes people default on their payments and what causes these factors to\n",
    "be pronounced or mitigated in certain states.\n",
    "\n",
    "\n",
    "I will be using the kaggle dataset that contains Lending CLub Loan Data from 2007-2015.\n",
    "The loan dataset contains all the loans that are current, paid off or have been defaulted between the years of 2007-2015 and\n",
    "can be found [here](https://www.kaggle.com/wendykan/lending-club-loan-data/data). It contains features regarding annual income, length of employment, grade and sub-grade of loan, amongst others. These features are very useful in trying to identify why people default on their loans, which is the primary aim of the project."
   ]
  },
  {
   "cell_type": "markdown",
   "metadata": {},
   "source": [
    "### Packages used\n",
    "- `pandas` allows us to read in, manipulate and analyze data easily\n",
    "- `numpy` helps in computations on a matrix algebra level\n",
    "- `matplotlib` is the primary tool used for data visualization with a variety of figures\n",
    "- `plotly` is a mapping tool that has matplotlibs core functionalities\n",
    "- `sklearn` and all its functions will be the cornerstone for all statistical and machine learning applications of the project"
   ]
  },
  {
   "cell_type": "code",
   "execution_count": 98,
   "metadata": {},
   "outputs": [],
   "source": [
    "import pandas as pd\n",
    "import numpy as np\n",
    "import matplotlib.pyplot as plt\n",
    "import plotly.plotly as py\n",
    "import plotly\n",
    "from IPython.display import Image  \n",
    "from sklearn.externals.six import StringIO  \n",
    "import pydotplus\n",
    "import statsmodels.api as sm\n",
    "from sklearn.ensemble import RandomForestClassifier\n",
    "from sklearn.model_selection import train_test_split\n",
    "from sklearn import linear_model, datasets\n",
    "from sklearn.cross_validation import train_test_split\n",
    "from sklearn import tree\n",
    "import random\n"
   ]
  },
  {
   "cell_type": "code",
   "execution_count": 99,
   "metadata": {
    "collapsed": true
   },
   "outputs": [],
   "source": [
    "# First we download the csv file from kaggle with the link below\n",
    "# The downloaded file is a zip file that contains the csv file called loan.csv \n",
    "download_link = 'https://www.kaggle.com/wendykan/lending-club-loan-data/data'\n",
    "\n",
    "# We then use pandas read_csv method to read the downloaded csv into the dataframe called data\n",
    "data = pd.read_csv('loan.csv', low_memory = False)"
   ]
  },
  {
   "cell_type": "code",
   "execution_count": 100,
   "metadata": {},
   "outputs": [
    {
     "name": "stdout",
     "output_type": "stream",
     "text": [
      "(887379, 74)\n",
      "<bound method Index.tolist of Index(['id', 'member_id', 'loan_amnt', 'funded_amnt', 'funded_amnt_inv',\n",
      "       'term', 'int_rate', 'installment', 'grade', 'sub_grade', 'emp_title',\n",
      "       'emp_length', 'home_ownership', 'annual_inc', 'verification_status',\n",
      "       'issue_d', 'loan_status', 'pymnt_plan', 'url', 'desc', 'purpose',\n",
      "       'title', 'zip_code', 'addr_state', 'dti', 'delinq_2yrs',\n",
      "       'earliest_cr_line', 'inq_last_6mths', 'mths_since_last_delinq',\n",
      "       'mths_since_last_record', 'open_acc', 'pub_rec', 'revol_bal',\n",
      "       'revol_util', 'total_acc', 'initial_list_status', 'out_prncp',\n",
      "       'out_prncp_inv', 'total_pymnt', 'total_pymnt_inv', 'total_rec_prncp',\n",
      "       'total_rec_int', 'total_rec_late_fee', 'recoveries',\n",
      "       'collection_recovery_fee', 'last_pymnt_d', 'last_pymnt_amnt',\n",
      "       'next_pymnt_d', 'last_credit_pull_d', 'collections_12_mths_ex_med',\n",
      "       'mths_since_last_major_derog', 'policy_code', 'application_type',\n",
      "       'annual_inc_joint', 'dti_joint', 'verification_status_joint',\n",
      "       'acc_now_delinq', 'tot_coll_amt', 'tot_cur_bal', 'open_acc_6m',\n",
      "       'open_il_6m', 'open_il_12m', 'open_il_24m', 'mths_since_rcnt_il',\n",
      "       'total_bal_il', 'il_util', 'open_rv_12m', 'open_rv_24m', 'max_bal_bc',\n",
      "       'all_util', 'total_rev_hi_lim', 'inq_fi', 'total_cu_tl',\n",
      "       'inq_last_12m'],\n",
      "      dtype='object')>\n"
     ]
    }
   ],
   "source": [
    "# Observe the shape of the dataset and its features to inspect the columns that will be necessary to explore loan defaults further\n",
    "print(data.shape)\n",
    "print((data.columns.tolist))"
   ]
  },
  {
   "cell_type": "markdown",
   "metadata": {},
   "source": [
    "For the purpose of analysis there are a lot of columns that wont be needed. Hence, the trimmed dataframe will contain the following features we want to investigate"
   ]
  },
  {
   "cell_type": "code",
   "execution_count": 101,
   "metadata": {},
   "outputs": [
    {
     "data": {
      "text/html": [
       "<div>\n",
       "<style>\n",
       "    .dataframe thead tr:only-child th {\n",
       "        text-align: right;\n",
       "    }\n",
       "\n",
       "    .dataframe thead th {\n",
       "        text-align: left;\n",
       "    }\n",
       "\n",
       "    .dataframe tbody tr th {\n",
       "        vertical-align: top;\n",
       "    }\n",
       "</style>\n",
       "<table border=\"1\" class=\"dataframe\">\n",
       "  <thead>\n",
       "    <tr style=\"text-align: right;\">\n",
       "      <th></th>\n",
       "      <th>loan_status</th>\n",
       "      <th>loan_amnt</th>\n",
       "      <th>int_rate</th>\n",
       "      <th>funded_amnt</th>\n",
       "      <th>grade</th>\n",
       "      <th>sub_grade</th>\n",
       "      <th>emp_length</th>\n",
       "      <th>annual_inc</th>\n",
       "      <th>home_ownership</th>\n",
       "      <th>addr_state</th>\n",
       "    </tr>\n",
       "  </thead>\n",
       "  <tbody>\n",
       "    <tr>\n",
       "      <th>0</th>\n",
       "      <td>Fully Paid</td>\n",
       "      <td>5000.0</td>\n",
       "      <td>10.65</td>\n",
       "      <td>5000.0</td>\n",
       "      <td>B</td>\n",
       "      <td>B2</td>\n",
       "      <td>10+ years</td>\n",
       "      <td>24000.0</td>\n",
       "      <td>RENT</td>\n",
       "      <td>AZ</td>\n",
       "    </tr>\n",
       "    <tr>\n",
       "      <th>1</th>\n",
       "      <td>Charged Off</td>\n",
       "      <td>2500.0</td>\n",
       "      <td>15.27</td>\n",
       "      <td>2500.0</td>\n",
       "      <td>C</td>\n",
       "      <td>C4</td>\n",
       "      <td>&lt; 1 year</td>\n",
       "      <td>30000.0</td>\n",
       "      <td>RENT</td>\n",
       "      <td>GA</td>\n",
       "    </tr>\n",
       "    <tr>\n",
       "      <th>2</th>\n",
       "      <td>Fully Paid</td>\n",
       "      <td>2400.0</td>\n",
       "      <td>15.96</td>\n",
       "      <td>2400.0</td>\n",
       "      <td>C</td>\n",
       "      <td>C5</td>\n",
       "      <td>10+ years</td>\n",
       "      <td>12252.0</td>\n",
       "      <td>RENT</td>\n",
       "      <td>IL</td>\n",
       "    </tr>\n",
       "    <tr>\n",
       "      <th>3</th>\n",
       "      <td>Fully Paid</td>\n",
       "      <td>10000.0</td>\n",
       "      <td>13.49</td>\n",
       "      <td>10000.0</td>\n",
       "      <td>C</td>\n",
       "      <td>C1</td>\n",
       "      <td>10+ years</td>\n",
       "      <td>49200.0</td>\n",
       "      <td>RENT</td>\n",
       "      <td>CA</td>\n",
       "    </tr>\n",
       "    <tr>\n",
       "      <th>4</th>\n",
       "      <td>Current</td>\n",
       "      <td>3000.0</td>\n",
       "      <td>12.69</td>\n",
       "      <td>3000.0</td>\n",
       "      <td>B</td>\n",
       "      <td>B5</td>\n",
       "      <td>1 year</td>\n",
       "      <td>80000.0</td>\n",
       "      <td>RENT</td>\n",
       "      <td>OR</td>\n",
       "    </tr>\n",
       "  </tbody>\n",
       "</table>\n",
       "</div>"
      ],
      "text/plain": [
       "   loan_status  loan_amnt  int_rate  funded_amnt grade sub_grade emp_length  \\\n",
       "0   Fully Paid     5000.0     10.65       5000.0     B        B2  10+ years   \n",
       "1  Charged Off     2500.0     15.27       2500.0     C        C4   < 1 year   \n",
       "2   Fully Paid     2400.0     15.96       2400.0     C        C5  10+ years   \n",
       "3   Fully Paid    10000.0     13.49      10000.0     C        C1  10+ years   \n",
       "4      Current     3000.0     12.69       3000.0     B        B5     1 year   \n",
       "\n",
       "   annual_inc home_ownership addr_state  \n",
       "0     24000.0           RENT         AZ  \n",
       "1     30000.0           RENT         GA  \n",
       "2     12252.0           RENT         IL  \n",
       "3     49200.0           RENT         CA  \n",
       "4     80000.0           RENT         OR  "
      ]
     },
     "execution_count": 101,
     "metadata": {},
     "output_type": "execute_result"
    }
   ],
   "source": [
    "col_list = ['loan_status','loan_amnt','int_rate','funded_amnt','grade',\n",
    "            'sub_grade','emp_length','annual_inc','home_ownership','addr_state']\n",
    "data_1 = data[col_list]\n",
    "data_1.head()"
   ]
  },
  {
   "cell_type": "code",
   "execution_count": 102,
   "metadata": {},
   "outputs": [
    {
     "data": {
      "text/plain": [
       "loan_status        object\n",
       "loan_amnt         float64\n",
       "int_rate          float64\n",
       "funded_amnt       float64\n",
       "grade              object\n",
       "sub_grade          object\n",
       "emp_length         object\n",
       "annual_inc        float64\n",
       "home_ownership     object\n",
       "addr_state         object\n",
       "dtype: object"
      ]
     },
     "execution_count": 102,
     "metadata": {},
     "output_type": "execute_result"
    }
   ],
   "source": [
    "data_1.dtypes"
   ]
  },
  {
   "cell_type": "markdown",
   "metadata": {
    "collapsed": true
   },
   "source": [
    "As we can see in the trimmed dataframe, some of the values look troublesome. For example, the emp_length is displayed as strings which have to be converted into integers. After cleaning this dataframe we have the necessary information to perform the analysis outlined in the project proposal"
   ]
  },
  {
   "cell_type": "markdown",
   "metadata": {},
   "source": [
    "# Data Cleaning\n",
    "## Cleaning Loan Status Column\n",
    "- We assign the various loan status strings to a number\n",
    "- Charged Off, Late, Grace Period and Default loans are all considered Defaulted loans\n",
    "- Fully Paid loans are considrered not defaulted and Current loans are assigned a value but of no relevance"
   ]
  },
  {
   "cell_type": "code",
   "execution_count": 103,
   "metadata": {},
   "outputs": [
    {
     "name": "stderr",
     "output_type": "stream",
     "text": [
      "C:\\Users\\Rahul Loney\\Anaconda3\\lib\\site-packages\\ipykernel_launcher.py:5: SettingWithCopyWarning:\n",
      "\n",
      "\n",
      "A value is trying to be set on a copy of a slice from a DataFrame.\n",
      "Try using .loc[row_indexer,col_indexer] = value instead\n",
      "\n",
      "See the caveats in the documentation: http://pandas.pydata.org/pandas-docs/stable/indexing.html#indexing-view-versus-copy\n",
      "\n"
     ]
    }
   ],
   "source": [
    "#construct a dictionary to map each type of home ownership to a numerical value\n",
    "status_dict = {'Current': 2, 'Fully Paid': 1, 'Charged Off':0, 'Late(31-120 days)':0, \n",
    "              'In Grace Period': 0, 'Late(16-30 days)': 0, 'Default': 0}\n",
    "\n",
    "data_1['loan_status_clean'] = data_1['loan_status'].map(status_dict)\n"
   ]
  },
  {
   "cell_type": "code",
   "execution_count": 104,
   "metadata": {},
   "outputs": [
    {
     "name": "stderr",
     "output_type": "stream",
     "text": [
      "C:\\Users\\Rahul Loney\\Anaconda3\\lib\\site-packages\\ipykernel_launcher.py:2: SettingWithCopyWarning:\n",
      "\n",
      "\n",
      "A value is trying to be set on a copy of a slice from a DataFrame\n",
      "\n",
      "See the caveats in the documentation: http://pandas.pydata.org/pandas-docs/stable/indexing.html#indexing-view-versus-copy\n",
      "\n"
     ]
    },
    {
     "data": {
      "text/html": [
       "<div>\n",
       "<style>\n",
       "    .dataframe thead tr:only-child th {\n",
       "        text-align: right;\n",
       "    }\n",
       "\n",
       "    .dataframe thead th {\n",
       "        text-align: left;\n",
       "    }\n",
       "\n",
       "    .dataframe tbody tr th {\n",
       "        vertical-align: top;\n",
       "    }\n",
       "</style>\n",
       "<table border=\"1\" class=\"dataframe\">\n",
       "  <thead>\n",
       "    <tr style=\"text-align: right;\">\n",
       "      <th></th>\n",
       "      <th>loan_status</th>\n",
       "      <th>loan_amnt</th>\n",
       "      <th>int_rate</th>\n",
       "      <th>funded_amnt</th>\n",
       "      <th>grade</th>\n",
       "      <th>sub_grade</th>\n",
       "      <th>emp_length</th>\n",
       "      <th>annual_inc</th>\n",
       "      <th>home_ownership</th>\n",
       "      <th>addr_state</th>\n",
       "      <th>Default</th>\n",
       "    </tr>\n",
       "  </thead>\n",
       "  <tbody>\n",
       "    <tr>\n",
       "      <th>0</th>\n",
       "      <td>Fully Paid</td>\n",
       "      <td>5000.0</td>\n",
       "      <td>10.65</td>\n",
       "      <td>5000.0</td>\n",
       "      <td>B</td>\n",
       "      <td>B2</td>\n",
       "      <td>10+ years</td>\n",
       "      <td>24000.0</td>\n",
       "      <td>RENT</td>\n",
       "      <td>AZ</td>\n",
       "      <td>1</td>\n",
       "    </tr>\n",
       "    <tr>\n",
       "      <th>1</th>\n",
       "      <td>Charged Off</td>\n",
       "      <td>2500.0</td>\n",
       "      <td>15.27</td>\n",
       "      <td>2500.0</td>\n",
       "      <td>C</td>\n",
       "      <td>C4</td>\n",
       "      <td>&lt; 1 year</td>\n",
       "      <td>30000.0</td>\n",
       "      <td>RENT</td>\n",
       "      <td>GA</td>\n",
       "      <td>0</td>\n",
       "    </tr>\n",
       "  </tbody>\n",
       "</table>\n",
       "</div>"
      ],
      "text/plain": [
       "   loan_status  loan_amnt  int_rate  funded_amnt grade sub_grade emp_length  \\\n",
       "0   Fully Paid     5000.0     10.65       5000.0     B        B2  10+ years   \n",
       "1  Charged Off     2500.0     15.27       2500.0     C        C4   < 1 year   \n",
       "\n",
       "   annual_inc home_ownership addr_state  Default  \n",
       "0     24000.0           RENT         AZ        1  \n",
       "1     30000.0           RENT         GA        0  "
      ]
     },
     "execution_count": 104,
     "metadata": {},
     "output_type": "execute_result"
    }
   ],
   "source": [
    "#dropping any n/a values and remove any current loans (Value:2)\n",
    "data_1.dropna( axis = 0, how = 'any', inplace = True)\n",
    "\n",
    "data_1 = data_1[data_1.loan_status_clean != 2.0]\n",
    "\n",
    "data_1.loan_status_clean = data_1.loan_status_clean.astype(int)\n",
    "\n",
    "data_1 = data_1.rename( columns = {\"loan_status_clean\":\"Default\"})\n",
    "\n",
    "data_1.head(2)"
   ]
  },
  {
   "cell_type": "markdown",
   "metadata": {},
   "source": [
    "## Employment Length\n",
    "- The employment length measures are listed as strings, we have to convert them to integers"
   ]
  },
  {
   "cell_type": "code",
   "execution_count": 105,
   "metadata": {},
   "outputs": [],
   "source": [
    "#removing the string elements from employment status and convert the strings to integers\n",
    "emp_list = ['years','year','<','+']\n",
    "for i in emp_list:\n",
    "    data_1['emp_length'] = data_1.emp_length.str.replace(i,'')\n",
    "\n",
    "data_1['emp_length'] = data_1.emp_length.str.replace('n/a','0')\n",
    "\n",
    "data_1['emp_length'] = data_1.emp_length.astype(int)"
   ]
  },
  {
   "cell_type": "code",
   "execution_count": 106,
   "metadata": {},
   "outputs": [
    {
     "data": {
      "text/html": [
       "<div>\n",
       "<style>\n",
       "    .dataframe thead tr:only-child th {\n",
       "        text-align: right;\n",
       "    }\n",
       "\n",
       "    .dataframe thead th {\n",
       "        text-align: left;\n",
       "    }\n",
       "\n",
       "    .dataframe tbody tr th {\n",
       "        vertical-align: top;\n",
       "    }\n",
       "</style>\n",
       "<table border=\"1\" class=\"dataframe\">\n",
       "  <thead>\n",
       "    <tr style=\"text-align: right;\">\n",
       "      <th></th>\n",
       "      <th>loan_status</th>\n",
       "      <th>loan_amnt</th>\n",
       "      <th>int_rate</th>\n",
       "      <th>funded_amnt</th>\n",
       "      <th>grade</th>\n",
       "      <th>sub_grade</th>\n",
       "      <th>emp_length</th>\n",
       "      <th>annual_inc</th>\n",
       "      <th>home_ownership</th>\n",
       "      <th>addr_state</th>\n",
       "      <th>Default</th>\n",
       "    </tr>\n",
       "  </thead>\n",
       "  <tbody>\n",
       "    <tr>\n",
       "      <th>0</th>\n",
       "      <td>Fully Paid</td>\n",
       "      <td>5000.0</td>\n",
       "      <td>10.65</td>\n",
       "      <td>5000.0</td>\n",
       "      <td>B</td>\n",
       "      <td>B2</td>\n",
       "      <td>10</td>\n",
       "      <td>24000.0</td>\n",
       "      <td>RENT</td>\n",
       "      <td>AZ</td>\n",
       "      <td>1</td>\n",
       "    </tr>\n",
       "    <tr>\n",
       "      <th>1</th>\n",
       "      <td>Charged Off</td>\n",
       "      <td>2500.0</td>\n",
       "      <td>15.27</td>\n",
       "      <td>2500.0</td>\n",
       "      <td>C</td>\n",
       "      <td>C4</td>\n",
       "      <td>1</td>\n",
       "      <td>30000.0</td>\n",
       "      <td>RENT</td>\n",
       "      <td>GA</td>\n",
       "      <td>0</td>\n",
       "    </tr>\n",
       "  </tbody>\n",
       "</table>\n",
       "</div>"
      ],
      "text/plain": [
       "   loan_status  loan_amnt  int_rate  funded_amnt grade sub_grade  emp_length  \\\n",
       "0   Fully Paid     5000.0     10.65       5000.0     B        B2          10   \n",
       "1  Charged Off     2500.0     15.27       2500.0     C        C4           1   \n",
       "\n",
       "   annual_inc home_ownership addr_state  Default  \n",
       "0     24000.0           RENT         AZ        1  \n",
       "1     30000.0           RENT         GA        0  "
      ]
     },
     "execution_count": 106,
     "metadata": {},
     "output_type": "execute_result"
    }
   ],
   "source": [
    "data_1.head(2)"
   ]
  },
  {
   "cell_type": "markdown",
   "metadata": {},
   "source": [
    "# Characterizing a typical borrower for P2P Loans\n",
    "Before we start analyzing what causes default on Lending Club loans, we must try to characterize the consumer who is actually using lending club and compare them to an average U.S citizen who goes to banks and financial institutions to obtain loans. In order to do this, the following questions will be explored:\n",
    "- What does a typical Lending Club borrower earn on average?\n",
    "- What kind of home ownership status does he/she have?\n",
    "- How long have they been employed?\n",
    "- Compare all these statistics to US averages to attempt to characterize a typical borrower for P2P Loans"
   ]
  },
  {
   "cell_type": "markdown",
   "metadata": {},
   "source": [
    "## Exploring distribution of income"
   ]
  },
  {
   "cell_type": "code",
   "execution_count": 107,
   "metadata": {},
   "outputs": [
    {
     "data": {
      "image/png": "[encoded data removed]",
      "text/plain": [
       "<matplotlib.figure.Figure at 0x21c2c1b3f28>"
      ]
     },
     "metadata": {},
     "output_type": "display_data"
    }
   ],
   "source": [
    "fig,ax = plt.subplots(figsize = (7,5))\n",
    "data.annual_inc.plot(kind = 'hist', ax = ax)\n",
    "ax.set_xlabel('Annual Income')\n",
    "plt.show()"
   ]
  },
  {
   "cell_type": "markdown",
   "metadata": {},
   "source": [
    " We see that the income distribution data seems to be skewed due to the presence of extreme outliers\n",
    "\n",
    "\n",
    "Due to this we cannot get a good visalisation of the income distribution. In order to see how many outliers we have, we use the following code"
   ]
  },
  {
   "cell_type": "code",
   "execution_count": 108,
   "metadata": {},
   "outputs": [
    {
     "name": "stdout",
     "output_type": "stream",
     "text": [
      "The number of outliers are 10920\n",
      "The highest level of income is 8900060.0\n"
     ]
    }
   ],
   "source": [
    "# We see that the income distribution data seems to be skewed and due to the presence of extreme outliers\n",
    "# Due to this we cannot get a good visalisation of the income distribution\n",
    "# In order to see how many outliers we have, we use the following code\n",
    "outliers = data_1[data_1['annual_inc'] > 150000]\n",
    "print('The number of outliers are', len(outliers))\n",
    "print('The highest level of income is', outliers.annual_inc.max())"
   ]
  },
  {
   "cell_type": "markdown",
   "metadata": {},
   "source": [
    "#### Hence, looking at the histogram above, we will observe the distribution of income below $150,000 so that we account for the skewness caused by the outliers"
   ]
  },
  {
   "cell_type": "code",
   "execution_count": 109,
   "metadata": {},
   "outputs": [
    {
     "data": {
      "image/png": "[encoded data removed]",
      "text/plain": [
       "<matplotlib.figure.Figure at 0x21c256d1668>"
      ]
     },
     "metadata": {},
     "output_type": "display_data"
    }
   ],
   "source": [
    "data_1 = data_1[data_1['annual_inc'] < 150000]\n",
    "\n",
    "median = data_1.annual_inc.median()\n",
    "\n",
    "fig,ax = plt.subplots(figsize = (9,6))\n",
    "data_1.annual_inc.plot(kind = 'hist', ax = ax)\n",
    "\n",
    "ax.axvline(x= median,           \n",
    "           color='r',       \n",
    "           label='Average', \n",
    "           linestyle='-',   \n",
    "           linewidth=2)     \n",
    "\n",
    "message = \"Lending CLub Borrowers Median \\n\" + str(round(median,-1)) \n",
    "                                                  \n",
    "                                                  \n",
    "ax.text(median + 2000, \n",
    "        53000,\n",
    "        message,\n",
    "        horizontalalignment='left', fontsize = 11) \n",
    "\n",
    "ax.axvline(x= 59000,          \n",
    "           color='y',       \n",
    "           label='US Median', \n",
    "           linestyle='-',   \n",
    "           linewidth=2)    \n",
    "\n",
    "message = \" US population Household Median \\n\" + str(round(59000.0,-1)) \n",
    "                                         \n",
    "                                                  \n",
    "ax.text(-1000, \n",
    "        54000, \n",
    "        message,\n",
    "        horizontalalignment='left', fontsize = 11) \n",
    "\n",
    "ax.spines[\"right\"].set_visible(False)\n",
    "ax.spines[\"top\"].set_visible(False)\n",
    "\n",
    "ax.set_xlabel(\"Annual Income\", fontsize = 14)\n",
    "ax.set_ylabel(\"Number of Loans\", fontsize = 14)\n",
    "ax.set_title(\"Distribution of Annual Income\", fontsize = 17)\n",
    "\n",
    "plt.show()"
   ]
  },
  {
   "cell_type": "markdown",
   "metadata": {},
   "source": [
    "#### From this we see that the median income of a typical borrower on Lending Club is almost similar to the average U.S citizen ($59,000) implying that the consumer borrowing on Lending Club have a similar annual income to a US citizen who borrows from a bank"
   ]
  },
  {
   "cell_type": "markdown",
   "metadata": {},
   "source": [
    "## Comparing with US Averages"
   ]
  },
  {
   "cell_type": "markdown",
   "metadata": {},
   "source": [
    "In order to make comparisons with US median household income we make the assumption that the borrowers income on Lending Club represents a household\n",
    "- The table below shows how the median income, average years employed and % of population who rent their homes, of Lending Club borrowers compare to the United States Average"
   ]
  },
  {
   "cell_type": "code",
   "execution_count": 110,
   "metadata": {},
   "outputs": [
    {
     "data": {
      "text/html": [
       "<div>\n",
       "<style>\n",
       "    .dataframe thead tr:only-child th {\n",
       "        text-align: right;\n",
       "    }\n",
       "\n",
       "    .dataframe thead th {\n",
       "        text-align: left;\n",
       "    }\n",
       "\n",
       "    .dataframe tbody tr th {\n",
       "        vertical-align: top;\n",
       "    }\n",
       "</style>\n",
       "<table border=\"1\" class=\"dataframe\">\n",
       "  <thead>\n",
       "    <tr style=\"text-align: right;\">\n",
       "      <th></th>\n",
       "      <th>Lending Club</th>\n",
       "      <th>United States</th>\n",
       "    </tr>\n",
       "    <tr>\n",
       "      <th>Index</th>\n",
       "      <th></th>\n",
       "      <th></th>\n",
       "    </tr>\n",
       "  </thead>\n",
       "  <tbody>\n",
       "    <tr>\n",
       "      <th>Median Income</th>\n",
       "      <td>60000.000000</td>\n",
       "      <td>59000.0</td>\n",
       "    </tr>\n",
       "    <tr>\n",
       "      <th>Average years employed</th>\n",
       "      <td>5.669064</td>\n",
       "      <td>4.6</td>\n",
       "    </tr>\n",
       "    <tr>\n",
       "      <th>% of renters</th>\n",
       "      <td>42.980443</td>\n",
       "      <td>37.0</td>\n",
       "    </tr>\n",
       "  </tbody>\n",
       "</table>\n",
       "</div>"
      ],
      "text/plain": [
       "                        Lending Club  United States\n",
       "Index                                              \n",
       "Median Income           60000.000000        59000.0\n",
       "Average years employed      5.669064            4.6\n",
       "% of renters               42.980443           37.0"
      ]
     },
     "execution_count": 110,
     "metadata": {},
     "output_type": "execute_result"
    }
   ],
   "source": [
    "avg_emp = data_1.emp_length.mean()\n",
    "pct_rent = (data_1.home_ownership.value_counts()[1]/data_1.home_ownership.value_counts().sum())*100\n",
    "index = ['Median Income', 'Average years employed', '% of rent']\n",
    "compare = pd.DataFrame({\"Lending Club\":[round(median,-1),avg_emp,pct_rent],\"United States\":[59000, 4.6, 37],\n",
    "                       \"Index\":['Median Income', 'Average years employed', '% of renters']})\n",
    "compare.set_index('Index')"
   ]
  },
  {
   "cell_type": "markdown",
   "metadata": {},
   "source": [
    "*Data on United Status population sourced from US Census bereau data"
   ]
  },
  {
   "cell_type": "markdown",
   "metadata": {},
   "source": [
    "#### From the table above we get a superficial, but important insight about the profile of an average Lending Club borrower as compared to the general United States population\n",
    "- We can clearly see that they have very similar characteristics and we can infer that an individual who goes on Lending CLub to borrow money is similar to one who goes to a bank for a loan\n",
    "- Given that the consumer profile is similar to that of an average American bank account holder, we can now look at the typical loan default causes and see how they impact Defaults on Lending club"
   ]
  },
  {
   "cell_type": "markdown",
   "metadata": {},
   "source": [
    "### How does the number of defaults change with different kinds of home owners?"
   ]
  },
  {
   "cell_type": "code",
   "execution_count": 111,
   "metadata": {},
   "outputs": [
    {
     "data": {
      "image/png": "[encoded data removed]",
      "text/plain": [
       "<matplotlib.figure.Figure at 0x21c2a3dc208>"
      ]
     },
     "metadata": {},
     "output_type": "display_data"
    }
   ],
   "source": [
    "fig, ax = plt.subplots(figsize = (8,6))\n",
    "\n",
    "grouped = data_1.groupby ([\"home_ownership\"]).sum()\n",
    "grouped.Default.plot( kind = \"bar\", color =\"r\")\n",
    "\n",
    "ax.set_xlabel(\"Home Ownership\")\n",
    "ax.set_ylabel(\"Number of Defaults\")\n",
    "ax.set_title(\"Defaults vs Home Ownership\", fontsize = 14)\n",
    "\n",
    "ax.spines[\"right\"].set_visible(False)\n",
    "\n",
    "ax.spines[\"top\"].set_visible(False)\n",
    "\n",
    "plt.show()"
   ]
  },
  {
   "cell_type": "markdown",
   "metadata": {},
   "source": [
    "#### We notice that the individuals who have a house on rent and mortgage seem to be defaulting the most as compared to people who own a house"
   ]
  },
  {
   "cell_type": "markdown",
   "metadata": {},
   "source": [
    "### How does Defaults vary across various Loan Grades and Interest rate\n",
    "- Lending club assigns loan grades that vary with interest rate i.e A has the least interest rate while G has the highest\n",
    "- This interest rate is the sum of Lending Clubs base rate (5.05%) and the adjusted risk and volatility of the loan"
   ]
  },
  {
   "cell_type": "code",
   "execution_count": 112,
   "metadata": {
    "collapsed": true
   },
   "outputs": [],
   "source": [
    "\n",
    "# Getting average interest rate per loan for each grade\n",
    "interest = []\n",
    "\n",
    "for i in sorted(list(data_1.grade.unique())):\n",
    "    rate = data_1[data_1['grade']== i].int_rate.mean()\n",
    "    interest.append(rate)\n",
    "\n",
    "# Getting average interest rate per loan for each sub grade\n",
    "sub_grades = ['B1', 'B2', 'B3', 'B4', 'B5']\n",
    "interest_1=[]    \n",
    "\n",
    "for i in sub_grades:\n",
    "    x = data_1[data_1['sub_grade'] == i].int_rate.mean()\n",
    "    interest_1.append(x)"
   ]
  },
  {
   "cell_type": "code",
   "execution_count": 113,
   "metadata": {},
   "outputs": [
    {
     "data": {
      "image/png": "[encoded data removed]",
      "text/plain": [
       "<matplotlib.figure.Figure at 0x21c344f6ac8>"
      ]
     },
     "metadata": {},
     "output_type": "display_data"
    }
   ],
   "source": [
    "#Group by the loan grade \n",
    "grouped = data_1.groupby ([\"grade\"]).sum()\n",
    "grouped['Avg_int'] = interest\n",
    "\n",
    "grouped_1 = data_1.groupby(['sub_grade']).sum().iloc[5:10]\n",
    "grouped_1['Avg_int'] = interest_1\n",
    "\n",
    "    \n",
    "fig,ax = plt.subplots(2,2, figsize = (14,10))    # Create matplotlib figure\n",
    "\n",
    "grouped.Default.plot( ax = ax[0][0], kind = \"bar\")\n",
    "grouped.Avg_int.plot( ax = ax[0][1], kind = \"line\", color = \"r\")\n",
    "grouped_1.Default.plot( ax = ax[1][0], kind = \"bar\")\n",
    "grouped_1.Avg_int.plot(ax = ax[1][1], kind = 'line', color = \"r\")\n",
    "\n",
    "ax[0][0].set_ylabel(\"Number of Defaults\", fontsize = 14)\n",
    "ax[0][0].set_xlabel(\"Risk Grade\", fontsize = 14)\n",
    "\n",
    "ax[1][0].set_ylabel(\"Number of Defaults\", fontsize = 14)\n",
    "ax[1][0].set_xlabel(\"Sub Grade\", fontsize = 14)\n",
    "\n",
    "ax[1][1].set_ylabel(\"Interest Rate (%)\", fontsize = 14)\n",
    "ax[1][1].set_xlabel(\"Sub Grade\", fontsize = 14)\n",
    "\n",
    "ax[0][1].set_ylabel(\"Interest Rate (%)\", fontsize = 14)\n",
    "ax[0][1].set_xlabel(\"Risk Grade\", fontsize = 14)\n",
    "\n",
    "plt.suptitle('Defaults and Interest Rate across grades and sub grades', fontsize = 20)\n",
    "\n",
    "plt.show()"
   ]
  },
  {
   "cell_type": "markdown",
   "metadata": {},
   "source": [
    "- Interestingly, we see that B grade loans have the most number of defaults across all loan grades. This is striking as it would seem that the riskier loan with the highest interest rate are not the loans that get defaulted on the most. Similarly, within the grade B, the subgrade B3 has the highest number of defaults but does not have the highest interest rate\n",
    "- However, this also occurs because there are relatively less high risk loans available and hence the sample size of each loan grade is varied"
   ]
  },
  {
   "cell_type": "markdown",
   "metadata": {},
   "source": [
    "## Annual Income and Funded Amount"
   ]
  },
  {
   "cell_type": "code",
   "execution_count": 114,
   "metadata": {},
   "outputs": [
    {
     "data": {
      "image/png": "[encoded data removed]",
      "text/plain": [
       "<matplotlib.figure.Figure at 0x21c3451cbe0>"
      ]
     },
     "metadata": {},
     "output_type": "display_data"
    }
   ],
   "source": [
    "fig,ax = plt.subplots(figsize = (8,5))\n",
    "\n",
    "ax.scatter((data.annual_inc),(data.funded_amnt),\n",
    "          alpha = 0.3)\n",
    "\n",
    "ax.set_title(\"Funded amount vs Annual Income\")\n",
    "\n",
    "ax.set_xlabel(\"Annual Income\")\n",
    "\n",
    "ax.set_ylabel(\"Funded Amount\")\n",
    "ax.set_xticks([0,2000000,4000000,6000000,8000000])\n",
    "plt.show()"
   ]
  },
  {
   "cell_type": "markdown",
   "metadata": {},
   "source": [
    "- We notice that most of the loans on Lending Club are done by low annual income individuals\n",
    "- However, the loan amount has the same density throughout which implies that all types of loans are asked for by the low annual income borrowers"
   ]
  },
  {
   "cell_type": "markdown",
   "metadata": {},
   "source": [
    "### State-wise Default in the United States"
   ]
  },
  {
   "cell_type": "markdown",
   "metadata": {},
   "source": [
    "- Using plotly we can create a basemap of the Unites States and map the amount of defaults per state to see which state defaults the most "
   ]
  },
  {
   "cell_type": "code",
   "execution_count": null,
   "metadata": {
    "collapsed": true
   },
   "outputs": [],
   "source": [
    "import plotly.plotly as py\n",
    "import plotly\n",
    "\n",
    "#create list of states\n",
    "states = [\"AL\", \"AK\", \"AZ\", \"AR\", \"CA\", \"CO\", \"CT\", \"DC\", \"DE\", \"FL\", \n",
    "          \"GA\", \"HI\", \"ID\", \"IL\", \"IN\", \"IA\", \"KS\", \"KY\", \"LA\", \"ME\", \n",
    "          \"MD\", \"MA\", \"MI\", \"MN\", \"MS\", \"MO\", \"MT\", \"NE\", \"NV\", \"NH\", \n",
    "          \"NJ\", \"NM\", \"NY\", \"NC\", \"ND\", \"OH\", \"OK\", \"OR\", \"PA\", \"RI\", \n",
    "          \"SC\", \"SD\", \"TN\", \"TX\", \"UT\", \"VT\", \"VA\", \"WA\", \"WV\", \"WI\", \"WY\"]\n",
    "\n",
    "#colour scale for relative number of defaults\n",
    "scl = [[0.0, 'rgb(242,240,247)'],[0.2, 'rgb(218,218,235)'],[0.4, 'rgb(188,189,220)'],\\\n",
    "            [0.6, 'rgb(158,154,200)'],[0.8, 'rgb(117,107,177)'],[1.0, 'rgb(84,39,143)']]\n",
    "\n",
    "#create dictionary for the data input that will be plotted on the map\n",
    "data = [ dict(\n",
    "        type='choropleth',\n",
    "        colorscale = scl,\n",
    "        autocolorscale = False,\n",
    "        locations = pd.Series(states),\n",
    "        z = data_1.groupby('addr_state').sum().Default,\n",
    "        locationmode = 'USA-states',\n",
    "        marker = dict(\n",
    "            line = dict (\n",
    "                color = 'rgb(255,255,255)',\n",
    "                width = 2\n",
    "            ) ),\n",
    "        colorbar = dict(\n",
    "            title = \"Defaults\")\n",
    "        ) ]\n",
    "layout = dict(\n",
    "        title = 'Number of Loans Defaulted',\n",
    "        geo = dict(\n",
    "            scope='usa',\n",
    "            projection=dict( type='albers usa' ),\n",
    "            showlakes = True,\n",
    "            lakecolor = 'rgb(255, 255, 255)'),\n",
    "             )\n",
    "    \n",
    "fig = dict( data=data, layout=layout )\n",
    "import plotly\n",
    "\n",
    "plotly.offline.plot(fig)"
   ]
  },
  {
   "cell_type": "markdown",
   "metadata": {},
   "source": [
    "<img src= \"newplot.png\" width=\"750\" />"
   ]
  },
  {
   "cell_type": "markdown",
   "metadata": {},
   "source": [
    "#### We notice that the state of California (CA) has the highest amount of defaults through the years 2007-2015"
   ]
  },
  {
   "cell_type": "markdown",
   "metadata": {},
   "source": [
    "## Logistic Regression\n",
    "- Now that we have a better understanding of what a loan default on Lending Club actually means and the financial background of the borrowers on Lending Club, we can try to regress the features on defaults to try and measure their isolated causal impact \n",
    "- We notice that our dependant variable (Default) is a binary varible, and we cannot run an ordinary regression for a binary dependant variable.\n",
    "- Hence, we run a logistic regression which gives us the causal effect of select features on our dependant variable (Default)"
   ]
  },
  {
   "cell_type": "code",
   "execution_count": 115,
   "metadata": {
    "collapsed": true
   },
   "outputs": [],
   "source": [
    "# Creating binary dummy variables for Rent, Mortgage, Own, Other and None\n",
    "home_ownership = pd.get_dummies(data_1.home_ownership)\n",
    "data_1 = data_1.join(home_ownership)"
   ]
  },
  {
   "cell_type": "code",
   "execution_count": 116,
   "metadata": {},
   "outputs": [
    {
     "data": {
      "text/html": [
       "<div>\n",
       "<style>\n",
       "    .dataframe thead tr:only-child th {\n",
       "        text-align: right;\n",
       "    }\n",
       "\n",
       "    .dataframe thead th {\n",
       "        text-align: left;\n",
       "    }\n",
       "\n",
       "    .dataframe tbody tr th {\n",
       "        vertical-align: top;\n",
       "    }\n",
       "</style>\n",
       "<table border=\"1\" class=\"dataframe\">\n",
       "  <thead>\n",
       "    <tr style=\"text-align: right;\">\n",
       "      <th></th>\n",
       "      <th>loan_status</th>\n",
       "      <th>loan_amnt</th>\n",
       "      <th>int_rate</th>\n",
       "      <th>funded_amnt</th>\n",
       "      <th>grade</th>\n",
       "      <th>sub_grade</th>\n",
       "      <th>emp_length</th>\n",
       "      <th>annual_inc</th>\n",
       "      <th>home_ownership</th>\n",
       "      <th>addr_state</th>\n",
       "      <th>Default</th>\n",
       "      <th>ANY</th>\n",
       "      <th>MORTGAGE</th>\n",
       "      <th>NONE</th>\n",
       "      <th>OTHER</th>\n",
       "      <th>OWN</th>\n",
       "      <th>RENT</th>\n",
       "    </tr>\n",
       "  </thead>\n",
       "  <tbody>\n",
       "    <tr>\n",
       "      <th>0</th>\n",
       "      <td>Fully Paid</td>\n",
       "      <td>5000.0</td>\n",
       "      <td>10.65</td>\n",
       "      <td>5000.0</td>\n",
       "      <td>B</td>\n",
       "      <td>B2</td>\n",
       "      <td>10</td>\n",
       "      <td>24000.0</td>\n",
       "      <td>RENT</td>\n",
       "      <td>AZ</td>\n",
       "      <td>1</td>\n",
       "      <td>0</td>\n",
       "      <td>0</td>\n",
       "      <td>0</td>\n",
       "      <td>0</td>\n",
       "      <td>0</td>\n",
       "      <td>1</td>\n",
       "    </tr>\n",
       "    <tr>\n",
       "      <th>1</th>\n",
       "      <td>Charged Off</td>\n",
       "      <td>2500.0</td>\n",
       "      <td>15.27</td>\n",
       "      <td>2500.0</td>\n",
       "      <td>C</td>\n",
       "      <td>C4</td>\n",
       "      <td>1</td>\n",
       "      <td>30000.0</td>\n",
       "      <td>RENT</td>\n",
       "      <td>GA</td>\n",
       "      <td>0</td>\n",
       "      <td>0</td>\n",
       "      <td>0</td>\n",
       "      <td>0</td>\n",
       "      <td>0</td>\n",
       "      <td>0</td>\n",
       "      <td>1</td>\n",
       "    </tr>\n",
       "    <tr>\n",
       "      <th>2</th>\n",
       "      <td>Fully Paid</td>\n",
       "      <td>2400.0</td>\n",
       "      <td>15.96</td>\n",
       "      <td>2400.0</td>\n",
       "      <td>C</td>\n",
       "      <td>C5</td>\n",
       "      <td>10</td>\n",
       "      <td>12252.0</td>\n",
       "      <td>RENT</td>\n",
       "      <td>IL</td>\n",
       "      <td>1</td>\n",
       "      <td>0</td>\n",
       "      <td>0</td>\n",
       "      <td>0</td>\n",
       "      <td>0</td>\n",
       "      <td>0</td>\n",
       "      <td>1</td>\n",
       "    </tr>\n",
       "    <tr>\n",
       "      <th>3</th>\n",
       "      <td>Fully Paid</td>\n",
       "      <td>10000.0</td>\n",
       "      <td>13.49</td>\n",
       "      <td>10000.0</td>\n",
       "      <td>C</td>\n",
       "      <td>C1</td>\n",
       "      <td>10</td>\n",
       "      <td>49200.0</td>\n",
       "      <td>RENT</td>\n",
       "      <td>CA</td>\n",
       "      <td>1</td>\n",
       "      <td>0</td>\n",
       "      <td>0</td>\n",
       "      <td>0</td>\n",
       "      <td>0</td>\n",
       "      <td>0</td>\n",
       "      <td>1</td>\n",
       "    </tr>\n",
       "    <tr>\n",
       "      <th>5</th>\n",
       "      <td>Fully Paid</td>\n",
       "      <td>5000.0</td>\n",
       "      <td>7.90</td>\n",
       "      <td>5000.0</td>\n",
       "      <td>A</td>\n",
       "      <td>A4</td>\n",
       "      <td>3</td>\n",
       "      <td>36000.0</td>\n",
       "      <td>RENT</td>\n",
       "      <td>AZ</td>\n",
       "      <td>1</td>\n",
       "      <td>0</td>\n",
       "      <td>0</td>\n",
       "      <td>0</td>\n",
       "      <td>0</td>\n",
       "      <td>0</td>\n",
       "      <td>1</td>\n",
       "    </tr>\n",
       "  </tbody>\n",
       "</table>\n",
       "</div>"
      ],
      "text/plain": [
       "   loan_status  loan_amnt  int_rate  funded_amnt grade sub_grade  emp_length  \\\n",
       "0   Fully Paid     5000.0     10.65       5000.0     B        B2          10   \n",
       "1  Charged Off     2500.0     15.27       2500.0     C        C4           1   \n",
       "2   Fully Paid     2400.0     15.96       2400.0     C        C5          10   \n",
       "3   Fully Paid    10000.0     13.49      10000.0     C        C1          10   \n",
       "5   Fully Paid     5000.0      7.90       5000.0     A        A4           3   \n",
       "\n",
       "   annual_inc home_ownership addr_state  Default  ANY  MORTGAGE  NONE  OTHER  \\\n",
       "0     24000.0           RENT         AZ        1    0         0     0      0   \n",
       "1     30000.0           RENT         GA        0    0         0     0      0   \n",
       "2     12252.0           RENT         IL        1    0         0     0      0   \n",
       "3     49200.0           RENT         CA        1    0         0     0      0   \n",
       "5     36000.0           RENT         AZ        1    0         0     0      0   \n",
       "\n",
       "   OWN  RENT  \n",
       "0    0     1  \n",
       "1    0     1  \n",
       "2    0     1  \n",
       "3    0     1  \n",
       "5    0     1  "
      ]
     },
     "execution_count": 116,
     "metadata": {},
     "output_type": "execute_result"
    }
   ],
   "source": [
    "# Last look at data before regression\n",
    "data_1.head(5)"
   ]
  },
  {
   "cell_type": "code",
   "execution_count": 117,
   "metadata": {},
   "outputs": [
    {
     "data": {
      "text/html": [
       "<div>\n",
       "<style>\n",
       "    .dataframe thead tr:only-child th {\n",
       "        text-align: right;\n",
       "    }\n",
       "\n",
       "    .dataframe thead th {\n",
       "        text-align: left;\n",
       "    }\n",
       "\n",
       "    .dataframe tbody tr th {\n",
       "        vertical-align: top;\n",
       "    }\n",
       "</style>\n",
       "<table border=\"1\" class=\"dataframe\">\n",
       "  <thead>\n",
       "    <tr style=\"text-align: right;\">\n",
       "      <th></th>\n",
       "      <th>0</th>\n",
       "    </tr>\n",
       "    <tr>\n",
       "      <th>Index</th>\n",
       "      <th></th>\n",
       "    </tr>\n",
       "  </thead>\n",
       "  <tbody>\n",
       "    <tr>\n",
       "      <th>loan_amnt</th>\n",
       "      <td>-3.700838e-05</td>\n",
       "    </tr>\n",
       "    <tr>\n",
       "      <th>annual_inc</th>\n",
       "      <td>2.784872e-05</td>\n",
       "    </tr>\n",
       "    <tr>\n",
       "      <th>grade</th>\n",
       "      <td>5.297227e-08</td>\n",
       "    </tr>\n",
       "    <tr>\n",
       "      <th>RENT</th>\n",
       "      <td>2.412714e-09</td>\n",
       "    </tr>\n",
       "    <tr>\n",
       "      <th>MORTGAGE</th>\n",
       "      <td>2.069809e-09</td>\n",
       "    </tr>\n",
       "    <tr>\n",
       "      <th>OWN</th>\n",
       "      <td>7.970586e-10</td>\n",
       "    </tr>\n",
       "  </tbody>\n",
       "</table>\n",
       "</div>"
      ],
      "text/plain": [
       "                       0\n",
       "Index                   \n",
       "loan_amnt  -3.700838e-05\n",
       "annual_inc  2.784872e-05\n",
       "grade       5.297227e-08\n",
       "RENT        2.412714e-09\n",
       "MORTGAGE    2.069809e-09\n",
       "OWN         7.970586e-10"
      ]
     },
     "execution_count": 117,
     "metadata": {},
     "output_type": "execute_result"
    }
   ],
   "source": [
    "data_1['grade'] = data_1['grade'].map({'A':7,'B':6,'C':5,'D':4,'E':3,'F':2,'G':1})\n",
    "\n",
    "X_Variables = ['loan_amnt','annual_inc','grade','RENT', 'MORTGAGE', 'OWN',]\n",
    "X = data_1[X_Variables]\n",
    "\n",
    "X = X.values\n",
    "y = data_1['Default'].values\n",
    "\n",
    "clf = linear_model.LogisticRegression()\n",
    "model = clf.fit(X,y)\n",
    "\n",
    "\n",
    "df = pd.DataFrame(model.coef_.T)\n",
    "df['Index'] = X_Variables\n",
    "\n",
    "df = df.set_index('Index')\n",
    "df"
   ]
  },
  {
   "cell_type": "markdown",
   "metadata": {},
   "source": [
    "- The coefficients for all the variables are almost close to zero. This does not mean that the features have no explanatory power over the Default of a loan.\n",
    "\n",
    "\n",
    "#### These estimates could be caused due to a number of reasons:\n",
    "- We get these imprecise estimates because the variables we selected are highly correlated with each other i.e if a person has a high income, he probably will own a house and will be employed for longer.\n",
    "- This introduces the issue of multicollinearity in our regression which gives us imprecise estimates\n",
    "- We must isolate uncorrelated features and regress them individually to see the individual causal impact"
   ]
  },
  {
   "cell_type": "markdown",
   "metadata": {},
   "source": [
    "### Impact of Home ownership"
   ]
  },
  {
   "cell_type": "code",
   "execution_count": 118,
   "metadata": {},
   "outputs": [
    {
     "name": "stdout",
     "output_type": "stream",
     "text": [
      "0.794900598028\n"
     ]
    },
    {
     "data": {
      "text/html": [
       "<div>\n",
       "<style>\n",
       "    .dataframe thead tr:only-child th {\n",
       "        text-align: right;\n",
       "    }\n",
       "\n",
       "    .dataframe thead th {\n",
       "        text-align: left;\n",
       "    }\n",
       "\n",
       "    .dataframe tbody tr th {\n",
       "        vertical-align: top;\n",
       "    }\n",
       "</style>\n",
       "<table border=\"1\" class=\"dataframe\">\n",
       "  <thead>\n",
       "    <tr style=\"text-align: right;\">\n",
       "      <th></th>\n",
       "      <th>0</th>\n",
       "    </tr>\n",
       "    <tr>\n",
       "      <th>Index</th>\n",
       "      <th></th>\n",
       "    </tr>\n",
       "  </thead>\n",
       "  <tbody>\n",
       "    <tr>\n",
       "      <th>RENT</th>\n",
       "      <td>0.072524</td>\n",
       "    </tr>\n",
       "    <tr>\n",
       "      <th>MORTGAGE</th>\n",
       "      <td>0.330135</td>\n",
       "    </tr>\n",
       "    <tr>\n",
       "      <th>OWN</th>\n",
       "      <td>0.160335</td>\n",
       "    </tr>\n",
       "    <tr>\n",
       "      <th>NONE</th>\n",
       "      <td>0.332427</td>\n",
       "    </tr>\n",
       "    <tr>\n",
       "      <th>OTHER</th>\n",
       "      <td>0.228957</td>\n",
       "    </tr>\n",
       "  </tbody>\n",
       "</table>\n",
       "</div>"
      ],
      "text/plain": [
       "                 0\n",
       "Index             \n",
       "RENT      0.072524\n",
       "MORTGAGE  0.330135\n",
       "OWN       0.160335\n",
       "NONE      0.332427\n",
       "OTHER     0.228957"
      ]
     },
     "execution_count": 118,
     "metadata": {},
     "output_type": "execute_result"
    }
   ],
   "source": [
    "X_Variables = ['RENT', 'MORTGAGE', 'OWN','NONE','OTHER']\n",
    "X = data_1[X_Variables]\n",
    "\n",
    "X = X.values\n",
    "y = data_1['Default'].values\n",
    "\n",
    "clf = linear_model.LogisticRegression()\n",
    "model = clf.fit(X,y)\n",
    "\n",
    "print(model.score(X, y))\n",
    "\n",
    "df = pd.DataFrame(model.coef_.T)\n",
    "df['Index'] = X_Variables\n",
    "\n",
    "df = df.set_index('Index')\n",
    "df"
   ]
  },
  {
   "cell_type": "markdown",
   "metadata": {},
   "source": [
    "#### From our beta estimates, we can see that a home ownership status of mortgage and none has the highest causual impact on Default on a Lending Club loan "
   ]
  },
  {
   "cell_type": "markdown",
   "metadata": {},
   "source": [
    "### Impact of annual income and loan grade"
   ]
  },
  {
   "cell_type": "code",
   "execution_count": 119,
   "metadata": {},
   "outputs": [
    {
     "name": "stdout",
     "output_type": "stream",
     "text": [
      "0.794900598028\n"
     ]
    },
    {
     "data": {
      "text/html": [
       "<div>\n",
       "<style>\n",
       "    .dataframe thead tr:only-child th {\n",
       "        text-align: right;\n",
       "    }\n",
       "\n",
       "    .dataframe thead th {\n",
       "        text-align: left;\n",
       "    }\n",
       "\n",
       "    .dataframe tbody tr th {\n",
       "        vertical-align: top;\n",
       "    }\n",
       "</style>\n",
       "<table border=\"1\" class=\"dataframe\">\n",
       "  <thead>\n",
       "    <tr style=\"text-align: right;\">\n",
       "      <th></th>\n",
       "      <th>0</th>\n",
       "    </tr>\n",
       "    <tr>\n",
       "      <th>Index</th>\n",
       "      <th></th>\n",
       "    </tr>\n",
       "  </thead>\n",
       "  <tbody>\n",
       "    <tr>\n",
       "      <th>annual_inc</th>\n",
       "      <td>0.000020</td>\n",
       "    </tr>\n",
       "    <tr>\n",
       "      <th>grade</th>\n",
       "      <td>0.000017</td>\n",
       "    </tr>\n",
       "  </tbody>\n",
       "</table>\n",
       "</div>"
      ],
      "text/plain": [
       "                   0\n",
       "Index               \n",
       "annual_inc  0.000020\n",
       "grade       0.000017"
      ]
     },
     "execution_count": 119,
     "metadata": {},
     "output_type": "execute_result"
    }
   ],
   "source": [
    "X_Variables = ['annual_inc','grade']\n",
    "\n",
    "X = data_1[X_Variables]\n",
    "\n",
    "\n",
    "X = X.values\n",
    "y = data_1['Default'].values\n",
    "\n",
    "clf = linear_model.LogisticRegression()\n",
    "model = clf.fit(X,y)\n",
    "\n",
    "print(model.score(X, y))\n",
    "\n",
    "df = pd.DataFrame(model.coef_.T)\n",
    "df['Index'] = X_Variables\n",
    "\n",
    "df = df.set_index('Index')\n",
    "df"
   ]
  },
  {
   "cell_type": "markdown",
   "metadata": {},
   "source": [
    "- The estimates are low as the annual income is in the 10000-150000 scale which affect the causal relationship with our binary variable and intern affects the explaining power of the other independant variable (loan grade)\n",
    "- To correct this, we can run the same regression with log(annual income) and then get a better understanding of our estimates"
   ]
  },
  {
   "cell_type": "markdown",
   "metadata": {},
   "source": [
    "### Corrected regression for annual income and loan grade"
   ]
  },
  {
   "cell_type": "code",
   "execution_count": 120,
   "metadata": {},
   "outputs": [
    {
     "name": "stdout",
     "output_type": "stream",
     "text": [
      "0.793587360595\n"
     ]
    },
    {
     "data": {
      "text/html": [
       "<div>\n",
       "<style>\n",
       "    .dataframe thead tr:only-child th {\n",
       "        text-align: right;\n",
       "    }\n",
       "\n",
       "    .dataframe thead th {\n",
       "        text-align: left;\n",
       "    }\n",
       "\n",
       "    .dataframe tbody tr th {\n",
       "        vertical-align: top;\n",
       "    }\n",
       "</style>\n",
       "<table border=\"1\" class=\"dataframe\">\n",
       "  <thead>\n",
       "    <tr style=\"text-align: right;\">\n",
       "      <th></th>\n",
       "      <th>0</th>\n",
       "    </tr>\n",
       "    <tr>\n",
       "      <th>Index</th>\n",
       "      <th></th>\n",
       "    </tr>\n",
       "  </thead>\n",
       "  <tbody>\n",
       "    <tr>\n",
       "      <th>log_inc</th>\n",
       "      <td>0.447504</td>\n",
       "    </tr>\n",
       "    <tr>\n",
       "      <th>grade</th>\n",
       "      <td>0.429305</td>\n",
       "    </tr>\n",
       "  </tbody>\n",
       "</table>\n",
       "</div>"
      ],
      "text/plain": [
       "                0\n",
       "Index            \n",
       "log_inc  0.447504\n",
       "grade    0.429305"
      ]
     },
     "execution_count": 120,
     "metadata": {},
     "output_type": "execute_result"
    }
   ],
   "source": [
    "data_1['log_inc'] = np.log(data_1.annual_inc)\n",
    "X_Variables = ['log_inc','grade']\n",
    "\n",
    "X = data_1[X_Variables]\n",
    "\n",
    "\n",
    "X = X.values\n",
    "y = data_1['Default'].values\n",
    "\n",
    "clf = linear_model.LogisticRegression()\n",
    "model = clf.fit(X,y)\n",
    "\n",
    "print(model.score(X, y))\n",
    "\n",
    "df = pd.DataFrame(model.coef_.T)\n",
    "df['Index'] = X_Variables\n",
    "\n",
    "df = df.set_index('Index')\n",
    "df"
   ]
  },
  {
   "cell_type": "markdown",
   "metadata": {},
   "source": [
    "- The corrected regression produces estimates that demonstrates explaining power over the number of defaults\n",
    "- For each 1 unit increase in grade and log income, the probability of default increases by around 40%"
   ]
  },
  {
   "cell_type": "markdown",
   "metadata": {},
   "source": [
    "## Historical Default Prediction with Machine Learning"
   ]
  },
  {
   "cell_type": "markdown",
   "metadata": {},
   "source": [
    "- Now that we have established that our selected features have a causal impact on loans being defaulted, we can build a model and train it to predict whether a laon with given parameters has been defaulted on or paid off\n",
    "- We first build a decision tree model \n",
    "- Then apply the random forest classification in order to randomize the sample\n",
    "- We then split the data into a training and testing set by which we fit our model\n",
    "- Predict values of default with our test data set and then compare it to the actual data values to see the accuracy of prediction"
   ]
  },
  {
   "cell_type": "code",
   "execution_count": 91,
   "metadata": {
    "collapsed": true,
    "scrolled": true
   },
   "outputs": [],
   "source": [
    "def create_decisiontree(i):\n",
    "    features = ['annual_inc','loan_amnt','grade']\n",
    "    y = data_1.iloc[i:i+10][\"Default\"]\n",
    "    X = data_1.iloc[i:i+10][features]\n",
    "    clf = tree.DecisionTreeClassifier()\n",
    "    clf = clf.fit(X,y)\n",
    "    dot_data = StringIO()  \n",
    "    tree.export_graphviz(clf, out_file=dot_data,  \n",
    "                         feature_names=features)  \n",
    "    graph = pydotplus.graph_from_dot_data(dot_data.getvalue())  \n",
    "    return Image(graph.create_png())"
   ]
  },
  {
   "cell_type": "markdown",
   "metadata": {},
   "source": [
    "### Decision Trees\n",
    "- A decision tree is a decision support tool that uses a tree-like graph or model of decisions and their possible consequences"
   ]
  },
  {
   "cell_type": "markdown",
   "metadata": {},
   "source": [
    "We created 3 different decision trees with three different samples to get an idea of how the algorithm works"
   ]
  },
  {
   "cell_type": "code",
   "execution_count": 32,
   "metadata": {},
   "outputs": [
    {
     "data": {
      "image/png": "[encoded data removed]",
      "text/plain": [
       "<IPython.core.display.Image object>"
      ]
     },
     "execution_count": 32,
     "metadata": {},
     "output_type": "execute_result"
    }
   ],
   "source": [
    "# we generate a random number and then take a 10 row sample to see how the decision tree works to set up the prediction model\n",
    "\n",
    "i = random.randrange(1,len(data_1))\n",
    "\n",
    "create_decisiontree(i)"
   ]
  },
  {
   "cell_type": "code",
   "execution_count": 33,
   "metadata": {},
   "outputs": [
    {
     "data": {
      "image/png": "[encoded data removed]",
      "text/plain": [
       "<IPython.core.display.Image object>"
      ]
     },
     "execution_count": 33,
     "metadata": {},
     "output_type": "execute_result"
    }
   ],
   "source": [
    "i = random.randrange(1,len(data_1))\n",
    "\n",
    "create_decisiontree(i)"
   ]
  },
  {
   "cell_type": "code",
   "execution_count": 36,
   "metadata": {},
   "outputs": [
    {
     "data": {
      "image/png": "[encoded data removed]",
      "text/plain": [
       "<IPython.core.display.Image object>"
      ]
     },
     "execution_count": 36,
     "metadata": {},
     "output_type": "execute_result"
    }
   ],
   "source": [
    "i = random.randrange(1,len(data_1))\n",
    "\n",
    "create_decisiontree(i)"
   ]
  },
  {
   "cell_type": "markdown",
   "metadata": {},
   "source": [
    "#### Reading the Trees:\n",
    "- Each condition branches left for \"true\" and right for \"false\". When you end up at a value, the value array represents how many samples exist in each target value. So value = [0. 5.] mean there are 0 \"Paid off\" and 5 \"Defaults\" by the time we get to that point. value = [3. 0.] means 3 paid off loans and 0 defaults.\n",
    "\n",
    "\n",
    "#### These trees show us intuitively how the machine learning model is going to run through the data and make decisions based of the features that affect the default of a lending club loan"
   ]
  },
  {
   "cell_type": "markdown",
   "metadata": {},
   "source": [
    "### Random Forests\n",
    "- Now we use a machine learning model called random forest that basically iterates through n different decision trees and creates a model that we can predict from\n",
    "- First, we split the dataset into a training set and testing set (usually 80:20 split) using scikit learns inbuilt functions\n",
    "- Then we use random forests to train our training data and fit it to a model\n",
    "- Finally, we use the model on the testing data and see the accuracy with which it predicts the true value outcome in the dataset"
   ]
  },
  {
   "cell_type": "code",
   "execution_count": 95,
   "metadata": {},
   "outputs": [],
   "source": [
    "from sklearn.ensemble import RandomForestClassifier\n",
    "from sklearn.model_selection import train_test_split\n",
    "\n",
    "train, test = train_test_split(data_1)\n",
    "y = train[\"Default\"]\n",
    "X = train[['annual_inc','loan_amnt','grade','RENT', 'MORTGAGE', 'OWN','NONE','OTHER']]\n",
    "clf = RandomForestClassifier(n_estimators=10)\n",
    "clf = clf.fit(X, y)\n",
    "\n"
   ]
  },
  {
   "cell_type": "markdown",
   "metadata": {},
   "source": [
    "### Using the model fitted on the training data to predict default for given values of annual income, loan grade, loan amount and home ownership"
   ]
  },
  {
   "cell_type": "code",
   "execution_count": 96,
   "metadata": {
    "collapsed": true
   },
   "outputs": [],
   "source": [
    "predicted_vals = []\n",
    "for i in range(len(test)):\n",
    "    x = int(clf.predict([[test.annual_inc.iloc[i],test.loan_amnt.iloc[i],test.grade.iloc[i],\n",
    "              test['RENT'].iloc[i], test['MORTGAGE'].iloc[i], test['OWN'].iloc[i],\n",
    "              test['NONE'].iloc[i],test['OTHER'].iloc[i]]]))\n",
    "    predicted_vals.append(x)"
   ]
  },
  {
   "cell_type": "code",
   "execution_count": 41,
   "metadata": {},
   "outputs": [
    {
     "name": "stdout",
     "output_type": "stream",
     "text": [
      "The accuracy of the given prediction model is 74.5 %\n"
     ]
    }
   ],
   "source": [
    "success = 0\n",
    "for i in range(len(test)):\n",
    "    if predicted_vals[i] == test.Default.iloc[i]:\n",
    "        success +=1\n",
    "    else:\n",
    "        continue\n",
    "accuracy = (success/len(test))*100\n",
    "print('The accuracy of the given prediction model is', round(accuracy,1),'%')"
   ]
  },
  {
   "cell_type": "markdown",
   "metadata": {},
   "source": [
    "## Future Roadmap\n",
    "- Model a probability function that predicts the probability that a current loan will default using the same training technique used above\n",
    "- Stacking 3 machine learning models and weighting them objectively to get a better accuracy output"
   ]
  },
  {
   "cell_type": "markdown",
   "metadata": {},
   "source": [
    "## Summary\n",
    "- Peer-to-Peer lending might be disruptive in nature due to its ease of access and marketplace lending, however the factors that lead to default seem to be strikingly similar to defaults on bank loans\n",
    "- The default of a loan depends on a multitude of factors, but the factors explored in this project seem to exhibit credible explaining power\n",
    "- Training and testing on the data set and predicting defaults yields an accuracy of 75% which fits the data set well as a preliminary step of machine learning analysis"
   ]
  },
  {
   "cell_type": "markdown",
   "metadata": {},
   "source": [
    "## References\n",
    "- US Census Bureau \n",
    "- Data Science, Deep Learning and Machine Learning with python (Online Course by Jose Portilla)"
   ]
  }
 ],
 "metadata": {
  "kernelspec": {
   "display_name": "Python 3",
   "language": "python",
   "name": "python3"
  },
  "language_info": {
   "codemirror_mode": {
    "name": "ipython",
    "version": 3
   },
   "file_extension": ".py",
   "mimetype": "text/x-python",
   "name": "python",
   "nbconvert_exporter": "python",
   "pygments_lexer": "ipython3",
   "version": "3.6.1"
  }
 },
 "nbformat": 4,
 "nbformat_minor": 2
}
